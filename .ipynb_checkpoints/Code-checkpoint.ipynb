{
 "cells": [
  {
   "cell_type": "markdown",
   "metadata": {},
   "source": [
    "# Carcrash Severity Prediction\n",
    "\n",
    "Downloading the datasets:\n",
    "\n",
    "Please run `wget https://data.wprdc.org/dataset/3130f583-9499-472b-bb5a-f63a6ff6059a/resource/ec578660-2d3f-489d-9ba1-af0ebfc3b140/download/all-crashes-2004-2018.csv.zip`\n",
    "or visit this link to get the Allegheny County crash data."
   ]
  },
  {
   "cell_type": "markdown",
   "metadata": {},
   "source": [
    "## Load Data"
   ]
  },
  {
   "cell_type": "code",
   "execution_count": 6,
   "metadata": {},
   "outputs": [],
   "source": [
    "import ckanapi\n",
    "from pprint import pprint\n",
    "import pandas as pd\n",
    "\n",
    "site = \"https://data.wprdc.org\""
   ]
  },
  {
   "cell_type": "code",
   "execution_count": 2,
   "metadata": {},
   "outputs": [],
   "source": [
    "def get_resource_data(site,resource_id,count=50):\n",
    "    # Use the datastore_search API endpoint to get <count> records from\n",
    "    # a CKAN resource.\n",
    "    ckan = ckanapi.RemoteCKAN(site)\n",
    "    response = ckan.action.datastore_search(id=resource_id, limit=count)\n",
    "\n",
    "    # A typical response is a dictionary like this\n",
    "    #{u'_links': {u'next': u'/api/action/datastore_search?offset=3',\n",
    "    #             u'start': u'/api/action/datastore_search'},\n",
    "    # u'fields': [{u'id': u'_id', u'type': u'int4'},\n",
    "    #             {u'id': u'pin', u'type': u'text'},\n",
    "    #             {u'id': u'number', u'type': u'int4'},\n",
    "    #             {u'id': u'total_amount', u'type': u'float8'}],\n",
    "    # u'limit': 3,\n",
    "    # u'records': [{u'_id': 1,\n",
    "    #               u'number': 11,\n",
    "    #               u'pin': u'0001B00010000000',\n",
    "    #               u'total_amount': 13585.47},\n",
    "    #              {u'_id': 2,\n",
    "    #               u'number': 2,\n",
    "    #               u'pin': u'0001C00058000000',\n",
    "    #               u'total_amount': 7827.64},\n",
    "    #              {u'_id': 3,\n",
    "    #               u'number': 1,\n",
    "    #               u'pin': u'0001C01661006700',\n",
    "    #               u'total_amount': 3233.59}],\n",
    "    # u'resource_id': u'd1e80180-5b2e-4dab-8ec3-be621628649e',\n",
    "    # u'total': 88232}\n",
    "    data = response['records']\n",
    "    return data"
   ]
  },
  {
   "cell_type": "code",
   "execution_count": 3,
   "metadata": {},
   "outputs": [],
   "source": [
    "crash_data_2017 = get_resource_data(site,resource_id=\"bf8b3c7e-8d60-40df-9134-21606a451c1a\",count=999999999) "
   ]
  },
  {
   "cell_type": "code",
   "execution_count": 11,
   "metadata": {},
   "outputs": [
    {
     "name": "stdout",
     "output_type": "stream",
     "text": [
      "   UNBELTED  WORK_ZONE URBAN_RURAL  DRIVER_20YR  MC_DRINKING_DRIVER  \\\n",
      "0         0          0           3            0                   0   \n",
      "1         0          0           3            0                   0   \n",
      "2         0          0           3            0                   0   \n",
      "3         0          0           3            0                   0   \n",
      "4         0          0           3            0                   0   \n",
      "\n",
      "   CELL_PHONE  PROPERTY_DAMAGE_ONLY ACCESS_CTRL  HIT_GDRAIL LOCATION_TYPE  \\\n",
      "0           0                     0        None           0            00   \n",
      "1           0                     1        None           0            00   \n",
      "2           0                     0        None           0            00   \n",
      "3           0                     1        None           0            00   \n",
      "4           0                     0        None           0            00   \n",
      "\n",
      "   ...  CROSS_MEDIAN  WZ_LN_CLOSURE  LOCAL_ROAD  DRUG_RELATED  PEDESTRIAN  \\\n",
      "0  ...             0           None           0             0           0   \n",
      "1  ...             0           None           1             0           0   \n",
      "2  ...             0           None           0             0           0   \n",
      "3  ...             0           None           1             0           0   \n",
      "4  ...             0           None           1             0           0   \n",
      "\n",
      "   MODERATE_INJURY TAILGATING  ROAD_CONDITION      LATITUDE _id  \n",
      "0                0          0               1  40 28:01.602   1  \n",
      "1                0          0               1  40 26:56.157   2  \n",
      "2                0          0               1  40 26:54.669   3  \n",
      "3                0          0               1  40 25:30.597   4  \n",
      "4                0          0               0  40 27:31.670   5  \n",
      "\n",
      "[5 rows x 191 columns]\n"
     ]
    }
   ],
   "source": [
    "len(crash_data_2017)\n",
    "df = pd.DataFrame(crash_data_2017)\n",
    "print(df.head())"
   ]
  },
  {
   "cell_type": "markdown",
   "metadata": {},
   "source": [
    "## Data Visualization"
   ]
  },
  {
   "cell_type": "markdown",
   "metadata": {},
   "source": [
    "TODO: Add a graph/animation to show the car crash data\n",
    "maybe the geospatial data?"
   ]
  },
  {
   "cell_type": "markdown",
   "metadata": {},
   "source": [
    "## Data Cleanup"
   ]
  },
  {
   "cell_type": "markdown",
   "metadata": {},
   "source": [
    "## Environment Static Analysis\n"
   ]
  },
  {
   "cell_type": "markdown",
   "metadata": {},
   "source": [
    "## Dynamic Analysis"
   ]
  },
  {
   "cell_type": "markdown",
   "metadata": {},
   "source": [
    "## Combined Analysis"
   ]
  },
  {
   "cell_type": "markdown",
   "metadata": {},
   "source": [
    "## Real-Time Severity Prediction"
   ]
  }
 ],
 "metadata": {
  "kernelspec": {
   "display_name": "Python 3",
   "language": "python",
   "name": "python3"
  },
  "language_info": {
   "codemirror_mode": {
    "name": "ipython",
    "version": 3
   },
   "file_extension": ".py",
   "mimetype": "text/x-python",
   "name": "python",
   "nbconvert_exporter": "python",
   "pygments_lexer": "ipython3",
   "version": "3.7.4"
  },
  "pycharm": {
   "stem_cell": {
    "cell_type": "raw",
    "metadata": {
     "collapsed": false
    },
    "source": []
   }
  }
 },
 "nbformat": 4,
 "nbformat_minor": 2
}
