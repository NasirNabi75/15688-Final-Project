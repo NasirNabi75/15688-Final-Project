{
 "cells": [
  {
   "cell_type": "markdown",
   "metadata": {},
   "source": [
    "# Carcrash Severity Prediction\n",
    "\n",
    "Downloading the datasets:\n",
    "\n",
    "Please run `wget https://data.wprdc.org/dataset/3130f583-9499-472b-bb5a-f63a6ff6059a/resource/ec578660-2d3f-489d-9ba1-af0ebfc3b140/download/all-crashes-2004-2018.csv.zip`\n",
    "or visit this link to get the Allegheny County crash data."
   ]
  },
  {
   "cell_type": "markdown",
   "metadata": {},
   "source": [
    "## Load Data"
   ]
  },
  {
   "cell_type": "code",
   "execution_count": 1,
   "metadata": {
    "pycharm": {
     "is_executing": false
    }
   },
   "outputs": [],
   "source": [
    "import ckanapi\n",
    "import wget\n",
    "import pandas as pd\n",
    "import numpy as np\n",
    "import collections\n",
    "import seaborn as sns\n",
    "import matplotlib.pyplot as plt\n",
    "\n",
    "from itertools import product\n",
    "from pathlib import Path\n",
    "from pprint import pprint\n",
    "from scipy import stats\n",
    "from sklearn.metrics import f1_score\n",
    "from sklearn.model_selection import train_test_split\n",
    "from sklearn.naive_bayes import GaussianNB, MultinomialNB"
   ]
  },
  {
   "cell_type": "code",
   "execution_count": 2,
   "metadata": {
    "pycharm": {
     "is_executing": false
    }
   },
   "outputs": [
    {
     "name": "stderr",
     "output_type": "stream",
     "text": [
      "/Library/Frameworks/Python.framework/Versions/3.7/lib/python3.7/site-packages/IPython/core/interactiveshell.py:3058: DtypeWarning: Columns (79,183,189) have mixed types. Specify dtype option on import or set low_memory=False.\n",
      "  interactivity=interactivity, compiler=compiler, result=result)\n"
     ]
    },
    {
     "name": "stdout",
     "output_type": "stream",
     "text": [
      "   index   CRASH_CRN  DISTRICT  CRASH_COUNTY  MUNICIPALITY POLICE_AGCY  \\\n",
      "0      0  2004000001        11             2          2454       02454   \n",
      "1      1  2004000010        11             2          2440       02440   \n",
      "2      2  2004000016        11             2          2203       02203   \n",
      "3      3  2004000022        11             2          2404       02404   \n",
      "4      4  2004000030        11             2          2419       02419   \n",
      "\n",
      "   CRASH_YEAR  CRASH_MONTH  DAY_OF_WEEK  TIME_OF_DAY  ...  LANE_COUNT  \\\n",
      "0        2004            1            5        257.0  ...         2.0   \n",
      "1        2004            1            5       1027.0  ...         2.0   \n",
      "2        2004            1            5       1839.0  ...         2.0   \n",
      "3        2004            1            6        914.0  ...         2.0   \n",
      "4        2004            1            5       2230.0  ...         2.0   \n",
      "\n",
      "   RDWY_ORIENT  ROAD_OWNER  ROUTE  SPEED_LIMIT  SEGMENT  OFFSET  \\\n",
      "0            E         2.0   2032         35.0     10.0  1000.0   \n",
      "1            W         3.0    NaN         35.0      NaN     NaN   \n",
      "2            W         2.0   3082         35.0      NaN     NaN   \n",
      "3            N         4.0    NaN         25.0      NaN     NaN   \n",
      "4            S         4.0    NaN         20.0      NaN     NaN   \n",
      "\n",
      "            STREET_NAME  TOT_INJ_COUNT  SCHOOL_BUS_UNIT  \n",
      "0          LEWIS RUN RD            NaN              NaN  \n",
      "1        COAL VALLEY RD            NaN              NaN  \n",
      "2  CLINTON FRANKFORT RD            NaN              NaN  \n",
      "3        NORTH BALPH AV            NaN              NaN  \n",
      "4         THORNBERRY DR            NaN              NaN  \n",
      "\n",
      "[5 rows x 191 columns]\n",
      "182782\n",
      "Index(['index', 'CRASH_CRN', 'DISTRICT', 'CRASH_COUNTY', 'MUNICIPALITY',\n",
      "       'POLICE_AGCY', 'CRASH_YEAR', 'CRASH_MONTH', 'DAY_OF_WEEK',\n",
      "       'TIME_OF_DAY',\n",
      "       ...\n",
      "       'LANE_COUNT', 'RDWY_ORIENT', 'ROAD_OWNER', 'ROUTE', 'SPEED_LIMIT',\n",
      "       'SEGMENT', 'OFFSET', 'STREET_NAME', 'TOT_INJ_COUNT', 'SCHOOL_BUS_UNIT'],\n",
      "      dtype='object', length=191)\n"
     ]
    }
   ],
   "source": [
    "if not Path('all-crashes-2004-2018.csv.zip').exists():\n",
    "    wget.download(\"https://data.wprdc.org/dataset/3130f583-9499-472b-bb5a-f63a6ff6059a/resource/ec578660-2d3f-489d-9ba1-af0ebfc3b140/download/all-crashes-2004-2018.csv.zip\")\n",
    "# zf = zipfile.ZipFile('all-crashes-2004-2018.csv.zip') \n",
    "df_io = pd.read_csv('all-crashes-2004-2018.csv.zip').reset_index()\n",
    "\n",
    "print(df_io.head())\n",
    "print(len(df_io))\n",
    "print(df_io.columns)"
   ]
  },
  {
   "cell_type": "markdown",
   "metadata": {},
   "source": [
    "The following variables will be used. Three models will be developed: one only studies the effects of environment static factor, one studies dynamic factors, and one for both factors."
   ]
  },
  {
   "cell_type": "code",
   "execution_count": 3,
   "metadata": {},
   "outputs": [],
   "source": [
    "static = ['ROAD_CONDITION', 'INTERSECT_TYPE', 'LANE_CLOSED', 'TIME_OF_DAY', 'SPEED_LIMIT', 'ILLUMINATION']\n",
    "dynamic = ['MOTORCYCLE_COUNT', 'HEAVY_TRUCK_COUNT', 'HAZARDOUS_TRUCK', 'AUTOMOBILE_COUNT', 'SCH_BUS_IND', 'WEATHER']\n",
    "label = ['PERSON_COUNT', 'FATAL_COUNT', 'INJURY_COUNT', 'MAX_SEVERITY_LEVEL', 'MAJOR_INJURY']\n",
    "categorical = ['ROAD_CONDITION', 'INTERSECT_TYPE', 'LANE_CLOSED', 'ILLUMINATION', 'HAZARDOUS_TRUCK', 'SCH_BUS_IND', 'WEATHER']\n",
    "gaussian = ['TIME_OF_DAY', 'SPEED_LIMIT', 'MOTORCYCLE_COUNT', 'HEAVY_TRUCK_COUNT', 'AUTOMOBILE_COUNT']\n",
    "data = static + dynamic"
   ]
  },
  {
   "cell_type": "markdown",
   "metadata": {},
   "source": [
    "## Data Cleanup"
   ]
  },
  {
   "cell_type": "code",
   "execution_count": 4,
   "metadata": {
    "pycharm": {
     "is_executing": false,
     "name": "#%%\n"
    }
   },
   "outputs": [],
   "source": [
    "#clean sch_bus_ind y/n to integer 0,1\n",
    "\n",
    "def type_boolean(c):\n",
    "    if c == \"Y\": return 1\n",
    "    elif c == \"N\": return 0\n",
    "    # elif c == \"nan\": return np.nan\n",
    "    else:\n",
    "        return np.nan\n",
    "    # raise ValueError(c)\n",
    "\n",
    "def ROAD_CONDITION(c): # 8 is other 9 is unknown, 1,7->2, 3->4, 4->3, 5,6->5, 2,8,9->nan\n",
    "    if c == 1 or c == 7:\n",
    "        return 2\n",
    "    elif c == 3:\n",
    "        return 4\n",
    "    elif c == 4:\n",
    "        return 3\n",
    "    elif c == 5 or c == 6:\n",
    "        return 5\n",
    "    else:\n",
    "        return np.nan\n",
    "\n",
    "def INTERSECT_TYPE(c): # 10 is other 99 is unknown\n",
    "    if c <= 9:\n",
    "        return c\n",
    "    else:\n",
    "        return np.nan\n",
    "\n",
    "def ILLUMINATION(c):\n",
    "    if c <= 6:\n",
    "        return c\n",
    "    else:\n",
    "        return np.nan\n",
    "    \n",
    "def WEATHER(c):\n",
    "    if c <= 7:\n",
    "        return c\n",
    "    else:\n",
    "        return np.nan\n",
    "    \n",
    "def TIME(c): # extract only the hour\n",
    "    if c <= 2500:\n",
    "        return c // 100\n",
    "    else:\n",
    "        return np.nan\n",
    "\n",
    "# clean data\n",
    "df_io['SCH_BUS_IND'] = df_io['SCH_BUS_IND'].apply(type_boolean)\n",
    "df_io['ROAD_CONDITION'] = df_io['ROAD_CONDITION'].apply(ROAD_CONDITION)\n",
    "df_io['INTERSECT_TYPE'] = df_io['INTERSECT_TYPE'].apply(INTERSECT_TYPE)\n",
    "df_io['ILLUMINATION'] = df_io['ILLUMINATION'].apply(ILLUMINATION)\n",
    "df_io['WEATHER'] = df_io['WEATHER'].apply(WEATHER)\n",
    "df_io['TIME_OF_DAY'] = df_io['TIME_OF_DAY'].apply(TIME)"
   ]
  },
  {
   "cell_type": "markdown",
   "metadata": {},
   "source": [
    "## Data Visualization\n",
    "\n",
    "Before we do any machine learning on this dataset, we perform some visualizations to get some insights into this dataset. "
   ]
  },
  {
   "cell_type": "code",
   "execution_count": 5,
   "metadata": {},
   "outputs": [
    {
     "data": {
      "text/plain": [
       "<matplotlib.axes._subplots.AxesSubplot at 0x11ae705d0>"
      ]
     },
     "execution_count": 5,
     "metadata": {},
     "output_type": "execute_result"
    },
    {
     "data": {
      "image/png": "[encoded data removed]",
      "text/plain": [
       "<Figure size 432x288 with 1 Axes>"
      ]
     },
     "metadata": {
      "needs_background": "light"
     },
     "output_type": "display_data"
    },
    {
     "data": {
      "image/png": "[encoded data removed]",
      "text/plain": [
       "<Figure size 432x288 with 1 Axes>"
      ]
     },
     "metadata": {
      "needs_background": "light"
     },
     "output_type": "display_data"
    }
   ],
   "source": [
    "# total number of crashes over years\n",
    "df = pd.DataFrame({'CRASH_YEAR': df_io['CRASH_YEAR'], 'Count': np.ones(len(df_io))})\n",
    "df = df.groupby('CRASH_YEAR').count().reset_index()\n",
    "sns.lineplot(x='CRASH_YEAR', y='Count', data=df)\n",
    "\n",
    "# total injuries count over years\n",
    "plt.figure()\n",
    "df = df_io.groupby('CRASH_YEAR').sum().reset_index()\n",
    "sns.lineplot(x='CRASH_YEAR', y='INJURY_COUNT', data=df)"
   ]
  },
  {
   "cell_type": "markdown",
   "metadata": {},
   "source": [
    "Thus, the number of crashes fluctuates between yeras, but the total number of injuries decreases. We may also want to see which months have greater crashes and whether there's a change in alcohol related crashing for different years. "
   ]
  },
  {
   "cell_type": "code",
   "execution_count": 13,
   "metadata": {},
   "outputs": [
    {
     "data": {
      "text/plain": [
       "<matplotlib.axes._subplots.AxesSubplot at 0x11aa31ad0>"
      ]
     },
     "execution_count": 13,
     "metadata": {},
     "output_type": "execute_result"
    },
    {
     "data": {
      "image/png": "[encoded data removed]",
      "text/plain": [
       "<Figure size 432x288 with 1 Axes>"
      ]
     },
     "metadata": {
      "needs_background": "light"
     },
     "output_type": "display_data"
    },
    {
     "data": {
      "image/png": "[encoded data removed]",
      "text/plain": [
       "<Figure size 432x288 with 1 Axes>"
      ]
     },
     "metadata": {
      "needs_background": "light"
     },
     "output_type": "display_data"
    }
   ],
   "source": [
    "# crash by month\n",
    "plt.figure()\n",
    "df = pd.DataFrame({'CRASH_MONTH': df_io['CRASH_MONTH'], 'Count': np.ones(len(df_io))})\n",
    "df = df.groupby('CRASH_MONTH').count().reset_index()\n",
    "sns.lineplot(df['CRASH_MONTH'], df['Count'])\n",
    "\n",
    "# alcohol related crashing\n",
    "plt.figure()\n",
    "df = df_io.groupby('CRASH_YEAR').sum().reset_index()\n",
    "sns.lineplot(df['CRASH_YEAR'], df['ALCOHOL_RELATED'])"
   ]
  },
  {
   "cell_type": "markdown",
   "metadata": {},
   "source": [
    "As shown in this barplot, January and December have greater number of crashes than the rest of the months throughout a year. Additionally, alcohol related crashing is fluctuating but overall decreasing rom 2004 to 2018. \n",
    "\n",
    "Next, we want to see if certain variables could help us predict certain metrics. We first start by observing the effect of some of the static environmental and dyanmic variables on the metric MAX_SEVERITY_LEVEL. "
   ]
  },
  {
   "cell_type": "code",
   "execution_count": 16,
   "metadata": {},
   "outputs": [
    {
     "data": {
      "text/plain": [
       "<Figure size 432x288 with 0 Axes>"
      ]
     },
     "metadata": {},
     "output_type": "display_data"
    },
    {
     "data": {
      "image/png": "[encoded data removed]",
      "text/plain": [
       "<Figure size 540x540 with 12 Axes>"
      ]
     },
     "metadata": {
      "needs_background": "light"
     },
     "output_type": "display_data"
    }
   ],
   "source": [
    "def scatterplot_matrix_static(metric):\n",
    "    plt.figure()\n",
    "    df = pd.DataFrame({metric: df_io[metric],\n",
    "                       'ROAD_CONDITION': df_io['ROAD_CONDITION'],\n",
    "                       'TIME_OF_DAY': df_io['TIME_OF_DAY'],\n",
    "                      })\n",
    "    sns.pairplot(df)\n",
    "\n",
    "# scatterplot matrix to assess max severity level (static)\n",
    "scatterplot_matrix_static('MAX_SEVERITY_LEVEL')"
   ]
  },
  {
   "cell_type": "code",
   "execution_count": 18,
   "metadata": {},
   "outputs": [
    {
     "data": {
      "text/plain": [
       "<Figure size 432x288 with 0 Axes>"
      ]
     },
     "metadata": {},
     "output_type": "display_data"
    },
    {
     "data": {
      "image/png": "[encoded data removed]",
      "text/plain": [
       "<Figure size 720x720 with 20 Axes>"
      ]
     },
     "metadata": {
      "needs_background": "light"
     },
     "output_type": "display_data"
    }
   ],
   "source": [
    "def scatterplot_matrix_dynamic(metric):\n",
    "    plt.figure()\n",
    "    df = pd.DataFrame({metric: df_io[metric],\n",
    "                       'MOTORCYCLE_COUNT': df_io['MOTORCYCLE_COUNT'],\n",
    "                       'HEAVY_TRUCK_COUNT': df_io['HEAVY_TRUCK_COUNT'],\n",
    "                       'WEATHER': df_io['WEATHER'],\n",
    "                      })\n",
    "    sns.pairplot(df)\n",
    "\n",
    "# scatterplot matrix to assess max severity level (static)\n",
    "scatterplot_matrix_dynamic('MAX_SEVERITY_LEVEL')"
   ]
  },
  {
   "cell_type": "markdown",
   "metadata": {},
   "source": [
    "Finally, before analysis, we drop out the unnecessary information and we are ready for analysis"
   ]
  },
  {
   "cell_type": "code",
   "execution_count": 19,
   "metadata": {},
   "outputs": [
    {
     "name": "stdout",
     "output_type": "stream",
     "text": [
      "<class 'pandas.core.frame.DataFrame'>\n",
      "Int64Index: 43610 entries, 1 to 180963\n",
      "Data columns (total 12 columns):\n",
      "ROAD_CONDITION       43610 non-null object\n",
      "INTERSECT_TYPE       43610 non-null object\n",
      "LANE_CLOSED          43610 non-null object\n",
      "TIME_OF_DAY          43610 non-null int64\n",
      "SPEED_LIMIT          43610 non-null int64\n",
      "ILLUMINATION         43610 non-null object\n",
      "MOTORCYCLE_COUNT     43610 non-null int64\n",
      "HEAVY_TRUCK_COUNT    43610 non-null int64\n",
      "HAZARDOUS_TRUCK      43610 non-null object\n",
      "AUTOMOBILE_COUNT     43610 non-null int64\n",
      "SCH_BUS_IND          43610 non-null object\n",
      "WEATHER              43610 non-null object\n",
      "dtypes: int64(5), object(7)\n",
      "memory usage: 4.3+ MB\n",
      "None\n",
      "<class 'pandas.core.frame.DataFrame'>\n",
      "Int64Index: 43610 entries, 1 to 180963\n",
      "Data columns (total 5 columns):\n",
      "PERSON_COUNT          43610 non-null int64\n",
      "FATAL_COUNT           43610 non-null int64\n",
      "INJURY_COUNT          43610 non-null int64\n",
      "MAX_SEVERITY_LEVEL    43610 non-null int64\n",
      "MAJOR_INJURY          43610 non-null int64\n",
      "dtypes: int64(5)\n",
      "memory usage: 2.0 MB\n",
      "None\n"
     ]
    }
   ],
   "source": [
    "# drop col that will not be used\n",
    "for col in df_io.columns:\n",
    "    if col not in static and col not in dynamic and col not in label:\n",
    "        df_io.drop(col, axis = 1, inplace = True)\n",
    "\n",
    "# drop rows contain nan\n",
    "df_io = df_io.dropna()\n",
    "df_io = df_io.astype(\"int64\")\n",
    "df_io[categorical] = df_io[categorical].astype(\"object\")\n",
    "#print(df_io[15:25])\n",
    "# group data into dataset/label\n",
    "df_data = df_io[data].copy()\n",
    "df_label = df_io[label].copy()\n",
    "print(df_data.info())\n",
    "print(df_label.info())"
   ]
  },
  {
   "cell_type": "markdown",
   "metadata": {},
   "source": [
    "## Model"
   ]
  },
  {
   "cell_type": "code",
   "execution_count": 21,
   "metadata": {
    "pycharm": {
     "is_executing": false
    }
   },
   "outputs": [],
   "source": [
    "class GaussianPredictor:\n",
    "    \n",
    "    \"\"\" Feature predictor for a normally distributed real-valued, continuous feature.\n",
    "\n",
    "        attr:\n",
    "            k : int -- number of classes\n",
    "            mu : np.ndarray[k] -- vector containing per class mean of the feature\n",
    "            sigma : np.ndarray[k] -- vector containing per class std. deviation of the feature\n",
    "    \"\"\"\n",
    "    \n",
    "    def __init__(self, k):\n",
    "        \"\"\" constructor\n",
    "\n",
    "        args : k -- number of classes\n",
    "        \"\"\"\n",
    "        self.k = k\n",
    "        self.mu = np.zeros(k)\n",
    "        self.sigma = np.zeros(k)\n",
    "        pass\n",
    "\n",
    "    def fit(self, x, y):\n",
    "        \"\"\"update predictor statistics (mu, sigma) for Gaussian distribution\n",
    "\n",
    "        args:\n",
    "            x : pd.Series -- feature values\n",
    "            y : np.Series -- class labels\n",
    "            \n",
    "        return : GaussianPredictor -- return self for convenience\n",
    "        \n",
    "        \"\"\"\n",
    "        y=np.array(y)\n",
    "        x=np.array(x)\n",
    "    \n",
    "        for i in range(self.k):\n",
    "            ybools = (y==i)\n",
    "            given_i = np.extract(ybools,x)\n",
    "            self.mu[i]=given_i.mean()\n",
    "            self.sigma[i]=np.sqrt(given_i.var())\n",
    "        return self\n",
    "            \n",
    "    def partial_log_likelihood(self, x):\n",
    "        \"\"\" log likelihood of feature values x according to each class\n",
    "\n",
    "        args:\n",
    "            x : pd.Series -- feature values\n",
    "\n",
    "        return: np.ndarray[self.k, len(x)] : log likelihood for this feature for each class\n",
    "        \"\"\"\n",
    "        logpdfs = np.zeros((self.k,len(x)))\n",
    "        for i in range(self.k):\n",
    "            logpdfs[i]=stats.norm(loc=self.mu[i],scale=self.sigma[i]).logpdf(x)\n",
    "        return logpdfs"
   ]
  },
  {
   "cell_type": "code",
   "execution_count": 22,
   "metadata": {
    "pycharm": {
     "is_executing": false
    }
   },
   "outputs": [],
   "source": [
    "class CategoricalPredictor:\n",
    "    \"\"\" Feature predictor for a categorical feature.\n",
    "\n",
    "        attr: \n",
    "            k : int -- number of classes\n",
    "            p : Dict[feature_value, np.ndarray[k]] -- dictionary of vectors containing per-class probability of a feature value;\n",
    "    \"\"\"\n",
    "    \n",
    "    def __init__(self, k):\n",
    "        \"\"\" constructor\n",
    "\n",
    "        args : k -- number of classes\n",
    "        \"\"\"\n",
    "        self.k=k\n",
    "\n",
    "    def fit(self, x, y, alpha=1.):\n",
    "        \"\"\" initializes the predictor statistics (p) for Categorical distribution\n",
    "        \n",
    "        args:\n",
    "            x : pd.Series -- feature values\n",
    "            y : pd.Series -- class labels\n",
    "        \n",
    "        kwargs:\n",
    "            alpha : float -- smoothing factor\n",
    "\n",
    "        return : CategoricalPredictor -- returns self for convenience:\n",
    "        \"\"\"\n",
    "        y=np.array(y)\n",
    "        x=np.array(x)\n",
    "        self.p = {}\n",
    "        for char in set(x):\n",
    "            self.p[char]=np.zeros(self.k)\n",
    "            \n",
    "        \n",
    "        for i in range(self.k):\n",
    "            # n=sum([1 for j in range(len(y)) if y[j] == i])\n",
    "            ybools= (y==i)\n",
    "            \n",
    "            n=np.sum( ybools )\n",
    "            for char in set(x):\n",
    "                xbools= (x == char)\n",
    "                # nj=sum([1 for j in range(len(y)) if x[j] == char and y[j] == i ])\n",
    "                nj = np.sum(np.logical_and(xbools,ybools))\n",
    "                (self.p[char])[i] = (nj + alpha)/ (n+len(set(x))*alpha)\n",
    "        return self\n",
    "\n",
    "    def partial_log_likelihood(self, x):\n",
    "        \"\"\" log likelihood of feature values x according to each class\n",
    "\n",
    "        args:\n",
    "            x : pd.Series -- vector of feature values\n",
    "\n",
    "        return : np.ndarray[self.k, len(x)] -- matrix of log likelihood for this feature\n",
    "        \"\"\"\n",
    "        like = np.zeros((self.k,len(x)))\n",
    "        \n",
    "        for i in range(self.k):\n",
    "            for j,char in enumerate(x):\n",
    "                like[i][j]=np.log(self.p[char][i])\n",
    "        return like"
   ]
  },
  {
   "cell_type": "code",
   "execution_count": 23,
   "metadata": {
    "pycharm": {
     "is_executing": false,
     "name": "#%%\n"
    }
   },
   "outputs": [],
   "source": [
    "# working\n",
    "class NaiveBayesClassifier:\n",
    "    \"\"\" Naive Bayes classifier for a mixture of continuous and categorical attributes.\n",
    "        We use GaussianPredictor for continuous attributes and CategoricalPredictor for categorical ones.\n",
    "        \n",
    "        attr:\n",
    "            predictor : Dict[column_name,model] -- model for each column\n",
    "            log_prior : np.ndarray -- the (log) prior probability of each class\n",
    "    \"\"\"\n",
    "\n",
    "    def __init__(self, df, label, alpha=1.):\n",
    "        \"\"\"initialize predictors for each feature and compute class prior\n",
    "        \n",
    "        args:\n",
    "            df : pd.DataFrame -- processed dataframe, without any missing values.\n",
    "        \n",
    "        kwargs:\n",
    "            alpha : float -- smoothing factor for prior probability\n",
    "        \"\"\"\n",
    "        k = max(label)+1\n",
    "        self.log_prior = np.zeros(k)\n",
    "        n = len(label)\n",
    "        for i in range(k):\n",
    "            ybools= (label==i)          \n",
    "            nt=np.sum( ybools )\n",
    "            self.log_prior[i] = np.log( (nt+alpha)/(n+(k*alpha)))\n",
    "        \n",
    "        self.predictor = dict()\n",
    "        types = dict(df.dtypes)\n",
    "        for key in types:\n",
    "            if key != \"label\" and key!= \"index\":\n",
    "                if str(types[key])==\"int64\":\n",
    "                    self.predictor[key]=GaussianPredictor(k).fit(df[key],label)\n",
    "                elif str(types[key])==\"object\":\n",
    "                    self.predictor[key]=CategoricalPredictor(k).fit(df[key],label)\n",
    "                else:\n",
    "                    raise TypeError\n",
    "                    \n",
    "        self.k=k            \n",
    "        pass\n",
    "\n",
    "    def log_likelihood(self, x):\n",
    "        \"\"\"log_likelihood for input instances from log_prior and partial_log_likelihood of feature predictors\n",
    "\n",
    "        args:\n",
    "            x : pd.DataFrame -- processed dataframe (ignore label if present)\n",
    "\n",
    "        returns : np.ndarray[num_classes, len(x)] -- array of log-likelihood\n",
    "        \"\"\"\n",
    "        like = np.array(([self.log_prior,]*len(x))).transpose()\n",
    "        \n",
    "        for key in self.predictor:\n",
    "            model = self.predictor[key]\n",
    "            z= model.partial_log_likelihood(x[key])\n",
    "            like +=z\n",
    "            \n",
    "        return like           \n",
    "\n",
    "    def predict(self, x):\n",
    "        \"\"\"predicts label for input instances, breaks ties in favor of the class with lower id.\n",
    "\n",
    "        args:\n",
    "            x : pd.DataFrame -- processed dataframe (ignore label if present)\n",
    "\n",
    "        returns : np.ndarray[len(x)] -- vector of class labels\n",
    "        \"\"\"\n",
    "        pred = np.argmax(self.log_likelihood(x),axis = 0)\n",
    "        return pred\n"
   ]
  },
  {
   "cell_type": "markdown",
   "metadata": {},
   "source": [
    "### Label normalization"
   ]
  },
  {
   "cell_type": "code",
   "execution_count": 24,
   "metadata": {
    "pycharm": {
     "is_executing": false
    }
   },
   "outputs": [],
   "source": [
    "def label_normalization(label, label_test):\n",
    "    labellist = pd.Series(np.append(label,label_test)).unique()\n",
    "    labellist.sort()\n",
    "    revdic = dict()\n",
    "    for i,z in enumerate(labellist):\n",
    "        revdic[z] = i\n",
    "    f = (lambda s: revdic[s])\n",
    "    return np.array(list(map(f, label))),np.array(list(map(f, label_test)))"
   ]
  },
  {
   "cell_type": "markdown",
   "metadata": {},
   "source": [
    "### Accuracy estimate"
   ]
  },
  {
   "cell_type": "code",
   "execution_count": 25,
   "metadata": {
    "pycharm": {
     "is_executing": false
    }
   },
   "outputs": [],
   "source": [
    "def cal_accuracy(y_pred, y_test):\n",
    "    correct_counter = 0\n",
    "    total = len(y_test)\n",
    "    if total != len(y_pred):\n",
    "        print(\"param size not match.\")\n",
    "        \n",
    "    for idx in range(total):\n",
    "        if (int)(y_pred[idx]) == (int)(y_test[idx]):\n",
    "            correct_counter += 1\n",
    "            \n",
    "    return correct_counter / total\n",
    "\n",
    "def f1(pred, ground):\n",
    "    \"\"\" evaluates a classifier based on a supplied validation data\n",
    "\n",
    "    args:\n",
    "        pred: numpy.ndarray(bool) -- predictions\n",
    "        ground: numpy.ndarray(bool) -- known ground-truth values\n",
    "    \n",
    "    return : double -- the F1 score of the predictions\n",
    "    \"\"\"\n",
    "    pred = np.array(pred, dtype=bool)\n",
    "    ground = np.array(ground, dtype=bool)\n",
    "    realT = sum(ground)\n",
    "    predT = sum(pred)\n",
    "    bothT = float(sum([1 for i in range(ground.shape[0]) if pred[i] and ground[i]]))\n",
    "    precision = bothT/predT\n",
    "    recall = bothT/realT\n",
    "    print(\"precision and recal in f1:\", precision, recall)\n",
    "    return 2*(precision*recall)/(precision+recall)"
   ]
  },
  {
   "cell_type": "markdown",
   "metadata": {},
   "source": [
    "### Define a function to split, train, pred and test data"
   ]
  },
  {
   "cell_type": "code",
   "execution_count": 26,
   "metadata": {},
   "outputs": [],
   "source": [
    "def train(data, label, s, verbal, a=1.):\n",
    "    x_train, x_test, y_train, y_test = train_test_split(data, df_io[label], test_size=s, random_state=42)\n",
    "    y_train, y_test = label_normalization(y_train, y_test)\n",
    "    classifier = NaiveBayesClassifier(x_train, pd.Series(y_train), a)\n",
    "    y_pred = classifier.predict(x_test)\n",
    "    c = collections.Counter(y_pred)\n",
    "    d = collections.Counter(y_test)\n",
    "    \n",
    "    if verbal:\n",
    "        print(label, \"pred counter: \", c)\n",
    "        print(label, \"test counter: \", d)\n",
    "        \n",
    "    a = cal_accuracy(y_pred, y_test)\n",
    "    print(label, \"accuracy: \", a)\n",
    "    return (classifier, a)"
   ]
  },
  {
   "cell_type": "code",
   "execution_count": null,
   "metadata": {},
   "outputs": [
    {
     "name": "stdout",
     "output_type": "stream",
     "text": [
      "******** train ENVIRONMENT STATIC factors **********\n",
      "MAJOR_INJURY accuracy:  0.9872846025569761\n",
      "MAX_SEVERITY_LEVEL accuracy:  0.5640633685380767\n"
     ]
    }
   ],
   "source": [
    "def train_all(data, metrics, s, verbal=False):\n",
    "    classifiers = []\n",
    "    for (m, a) in metrics:\n",
    "        classifier = train(data, m, s, verbal, a)\n",
    "        classifiers.append(classifier)\n",
    "        \n",
    "    return classifiers\n",
    "\n",
    "metrics = [('MAJOR_INJURY', 1.),\n",
    "           ('MAX_SEVERITY_LEVEL', 1.), \n",
    "           ('PERSON_COUNT', 1.), \n",
    "           ('FATAL_COUNT', 1.), \n",
    "           ('INJURY_COUNT', 0.001)\n",
    "          ]\n",
    "s = 0.33\n",
    "\n",
    "print(\"******** train ENVIRONMENT STATIC factors **********\")\n",
    "classifier_s = train_all(df_io[static].copy(), metrics, s)\n",
    "\n",
    "print(\"\\n******** train DYNAMIC factors ********\")\n",
    "classifier_d = train_all(df_io[dynamic].copy(), metrics, s)\n",
    "\n",
    "print(\"\\n******** train COMBINED factors ********\")\n",
    "classifier_c = train_all(df_io[data].copy(), metrics, s)\n"
   ]
  },
  {
   "cell_type": "code",
   "execution_count": 29,
   "metadata": {},
   "outputs": [
    {
     "name": "stdout",
     "output_type": "stream",
     "text": [
      "[(<__main__.NaiveBayesClassifier object at 0x11fad18d0>, 0.9872846025569761), (<__main__.NaiveBayesClassifier object at 0x11fefe710>, 0.5640633685380767), (<__main__.NaiveBayesClassifier object at 0x11b2e0590>, 0.0029182879377431907), (<__main__.NaiveBayesClassifier object at 0x11d447550>, 0.9955530850472485), (<__main__.NaiveBayesClassifier object at 0x11f59a510>, 0.0048638132295719845)]\n"
     ]
    }
   ],
   "source": [
    "# select the best classifier for each metric\n",
    "classifiers = []\n",
    "for i in range(0, len(metrics)):\n",
    "    (c_s, a_s) = classifier_s[i]\n",
    "    (c_d, a_d) = classifier_d[i]\n",
    "    (c_c, a_c) = classifier_c[i]\n",
    "    max_accuracy = max(a_s, a_d, a_c)\n",
    "    if a_s == max_accuracy: classifiers.append((c_s, max_accuracy))\n",
    "    elif a_d == max_accuracy: classifiers.append((c_d, max_accuracy))\n",
    "    else: classifiers.append((c_c, max_accuracy))\n",
    "        \n",
    "print(classifiers)"
   ]
  },
  {
   "cell_type": "markdown",
   "metadata": {},
   "source": [
    "## Real-Time Severity Prediction"
   ]
  },
  {
   "cell_type": "code",
   "execution_count": null,
   "metadata": {
    "pycharm": {
     "is_executing": false
    }
   },
   "outputs": [],
   "source": []
  }
 ],
 "metadata": {
  "kernelspec": {
   "display_name": "Python 3",
   "language": "python",
   "name": "python3"
  },
  "language_info": {
   "codemirror_mode": {
    "name": "ipython",
    "version": 3
   },
   "file_extension": ".py",
   "mimetype": "text/x-python",
   "name": "python",
   "nbconvert_exporter": "python",
   "pygments_lexer": "ipython3",
   "version": "3.7.4"
  },
  "pycharm": {
   "stem_cell": {
    "cell_type": "raw",
    "metadata": {
     "collapsed": false
    },
    "source": []
   }
  }
 },
 "nbformat": 4,
 "nbformat_minor": 2
}
