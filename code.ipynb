{
 "cells": [
  {
   "cell_type": "markdown",
   "metadata": {},
   "source": [
    "# Carcrash Severity Prediction\n",
    "\n",
    "Downloading the datasets:\n",
    "\n",
    "Please run `wget https://data.wprdc.org/dataset/3130f583-9499-472b-bb5a-f63a6ff6059a/resource/ec578660-2d3f-489d-9ba1-af0ebfc3b140/download/all-crashes-2004-2018.csv.zip`\n",
    "or visit this link to get the Allegheny County crash data."
   ]
  },
  {
   "cell_type": "markdown",
   "metadata": {},
   "source": [
    "## Load Data"
   ]
  },
  {
   "cell_type": "code",
   "execution_count": 17,
   "metadata": {
    "pycharm": {
     "is_executing": true
    }
   },
   "outputs": [],
   "source": [
    "import ckanapi\n",
    "from pprint import pprint\n",
    "import pandas as pd\n",
    "\n",
    "site = \"https://data.wprdc.org\""
   ]
  },
  {
   "cell_type": "code",
   "execution_count": 5,
   "metadata": {
    "pycharm": {
     "is_executing": true
    }
   },
   "outputs": [],
   "source": [
    "def get_resource_data(site,resource_id,count=50):\n",
    "    # Use the datastore_search API endpoint to get <count> records from\n",
    "    # a CKAN resource.\n",
    "    ckan = ckanapi.RemoteCKAN(site)\n",
    "    response = ckan.action.datastore_search(id=resource_id, limit=count)\n",
    "\n",
    "    # A typical response is a dictionary like this\n",
    "    #{u'_links': {u'next': u'/api/action/datastore_search?offset=3',\n",
    "    #             u'start': u'/api/action/datastore_search'},\n",
    "    # u'fields': [{u'id': u'_id', u'type': u'int4'},\n",
    "    #             {u'id': u'pin', u'type': u'text'},\n",
    "    #             {u'id': u'number', u'type': u'int4'},\n",
    "    #             {u'id': u'total_amount', u'type': u'float8'}],\n",
    "    # u'limit': 3,\n",
    "    # u'records': [{u'_id': 1,\n",
    "    #               u'number': 11,\n",
    "    #               u'pin': u'0001B00010000000',\n",
    "    #               u'total_amount': 13585.47},\n",
    "    #              {u'_id': 2,\n",
    "    #               u'number': 2,\n",
    "    #               u'pin': u'0001C00058000000',\n",
    "    #               u'total_amount': 7827.64},\n",
    "    #              {u'_id': 3,\n",
    "    #               u'number': 1,\n",
    "    #               u'pin': u'0001C01661006700',\n",
    "    #               u'total_amount': 3233.59}],\n",
    "    # u'resource_id': u'd1e80180-5b2e-4dab-8ec3-be621628649e',\n",
    "    # u'total': 88232}\n",
    "    data = response['records']\n",
    "    return data"
   ]
  },
  {
   "cell_type": "code",
   "execution_count": 6,
   "metadata": {
    "pycharm": {
     "is_executing": true
    }
   },
   "outputs": [],
   "source": [
    "crash_data_2017 = get_resource_data(site,resource_id=\"bf8b3c7e-8d60-40df-9134-21606a451c1a\",count=999999999) "
   ]
  },
  {
   "cell_type": "code",
   "execution_count": 7,
   "metadata": {
    "pycharm": {
     "is_executing": true
    }
   },
   "outputs": [
    {
     "name": "stdout",
     "output_type": "stream",
     "text": [
      "  ACCESS_CTRL ADJ_RDWY_SEQ  AGGRESSIVE_DRIVING  ALCOHOL_RELATED  \\\n",
      "0        None         None                   0                0   \n",
      "1        None         None                   1                0   \n",
      "2        None         None                   0                0   \n",
      "3        None         None                   0                0   \n",
      "4        None         None                   0                1   \n",
      "\n",
      "   AUTOMOBILE_COUNT  BELTED_DEATH_COUNT  BELTED_MAJ_INJ_COUNT  BICYCLE  \\\n",
      "0                 2                   0                     0        0   \n",
      "1                 1                   0                     0        0   \n",
      "2                 1                   0                     0        0   \n",
      "3                 1                   0                     0        0   \n",
      "4                 4                   0                     0        0   \n",
      "\n",
      "   BICYCLE_COUNT  BICYCLE_DEATH_COUNT  ...  WORK_ZONE_LOC  WORK_ZONE_TYPE  \\\n",
      "0              0                    0  ...           None            None   \n",
      "1              0                    0  ...           None            None   \n",
      "2              0                    0  ...           None            None   \n",
      "3              0                    0  ...           None            None   \n",
      "4              0                    0  ...           None            None   \n",
      "\n",
      "   WZ_CLOSE_DETOUR WZ_FLAGGER  WZ_LAW_OFFCR_IND  WZ_LN_CLOSURE  WZ_MOVING  \\\n",
      "0             None       None              None           None       None   \n",
      "1             None       None              None           None       None   \n",
      "2             None       None              None           None       None   \n",
      "3             None       None              None           None       None   \n",
      "4             None       None              None           None       None   \n",
      "\n",
      "  WZ_OTHER WZ_SHLDER_MDN _id  \n",
      "0     None          None   1  \n",
      "1     None          None   2  \n",
      "2     None          None   3  \n",
      "3     None          None   4  \n",
      "4     None          None   5  \n",
      "\n",
      "[5 rows x 191 columns]\n"
     ]
    }
   ],
   "source": [
    "len(crash_data_2017)\n",
    "df = pd.DataFrame(crash_data_2017)\n",
    "print(df.head())"
   ]
  },
  {
   "cell_type": "markdown",
   "metadata": {},
   "source": [
    "## Data Visualization"
   ]
  },
  {
   "cell_type": "markdown",
   "metadata": {},
   "source": [
    "TODO: Add a graph/animation to show the car crash data\n",
    "maybe the geospatial data?"
   ]
  },
  {
   "cell_type": "markdown",
   "metadata": {},
   "source": [
    "## Data Cleanup"
   ]
  },
  {
   "cell_type": "code",
   "execution_count": 56,
   "metadata": {
    "pycharm": {
     "is_executing": false,
     "name": "#%%\n"
    }
   },
   "outputs": [
    {
     "name": "stderr",
     "output_type": "stream",
     "text": [
      "/Users/xuanxuan/anoconda3/anaconda3/lib/python3.7/site-packages/IPython/core/interactiveshell.py:3057: DtypeWarning: Columns (79,183,189) have mixed types. Specify dtype option on import or set low_memory=False.\n",
      "  interactivity=interactivity, compiler=compiler, result=result)\n"
     ]
    },
    {
     "name": "stdout",
     "output_type": "stream",
     "text": [
      "time = 9999:  DISTRICT              0\n",
      "TIME_OF_DAY           0\n",
      "ILLUMINATION          0\n",
      "WEATHER               0\n",
      "ROAD_CONDITION        0\n",
      "INTERSECT_TYPE        0\n",
      "SCH_BUS_IND           0\n",
      "PERSON_COUNT          0\n",
      "AUTOMOBILE_COUNT      0\n",
      "MOTORCYCLE_COUNT      0\n",
      "HEAVY_TRUCK_COUNT     0\n",
      "FATAL_COUNT           0\n",
      "INJURY_COUNT          0\n",
      "MAX_SEVERITY_LEVEL    0\n",
      "LANE_CLOSED           0\n",
      "HAZARDOUS_TRUCK       0\n",
      "MAJOR_INJURY          0\n",
      "SPEED_LIMIT           0\n",
      "dtype: int64\n",
      "   DISTRICT  TIME_OF_DAY ILLUMINATION WEATHER ROAD_CONDITION INTERSECT_TYPE  \\\n",
      "29       11           11            1       1              5              0   \n",
      "48       11           13            1       4              2              0   \n",
      "52       11           10            1       2              2              0   \n",
      "53       11           15            1       1              2              0   \n",
      "54       11           16            1       1              3              0   \n",
      "59       11           13            1       2              2              0   \n",
      "61       11           11            1       4              5              0   \n",
      "67       11           21            2       4              4              2   \n",
      "69       11            7            1       4              5              0   \n",
      "70       11           10            1       4              3              0   \n",
      "\n",
      "   SCH_BUS_IND  PERSON_COUNT  AUTOMOBILE_COUNT  MOTORCYCLE_COUNT  \\\n",
      "29           0             2                 2                 0   \n",
      "48           0             3                 2                 0   \n",
      "52           0             4                 2                 0   \n",
      "53           0             3                 2                 0   \n",
      "54           0             1                 1                 0   \n",
      "59           0             2                 2                 0   \n",
      "61           0             3                 1                 0   \n",
      "67           0             1                 1                 0   \n",
      "69           0             2                 2                 0   \n",
      "70           0             2                 1                 0   \n",
      "\n",
      "    HEAVY_TRUCK_COUNT  FATAL_COUNT  INJURY_COUNT MAX_SEVERITY_LEVEL  \\\n",
      "29                  0            0             0                  0   \n",
      "48                  0            0             0                  0   \n",
      "52                  0            0             0                  0   \n",
      "53                  0            0             2                  4   \n",
      "54                  0            0             1                  4   \n",
      "59                  0            0             1                  4   \n",
      "61                  0            0             0                  0   \n",
      "67                  0            0             0                  0   \n",
      "69                  0            0             2                  3   \n",
      "70                  0            0             0                  0   \n",
      "\n",
      "   LANE_CLOSED HAZARDOUS_TRUCK MAJOR_INJURY  SPEED_LIMIT  \n",
      "29           0               0            0           40  \n",
      "48           1               0            0           35  \n",
      "52           0               0            0           40  \n",
      "53           2               0            0           25  \n",
      "54           2               0            0           45  \n",
      "59           2               0            0           40  \n",
      "61           2               0            0           35  \n",
      "67           0               0            0           45  \n",
      "69           1               0            0           35  \n",
      "70           0               0            0           35  \n",
      "<class 'pandas.core.frame.DataFrame'>\n",
      "Int64Index: 43610 entries, 1 to 180963\n",
      "Data columns (total 13 columns):\n",
      "ROAD_CONDITION       43610 non-null object\n",
      "INTERSECT_TYPE       43610 non-null object\n",
      "DISTRICT             43610 non-null object\n",
      "LANE_CLOSED          43610 non-null object\n",
      "TIME_OF_DAY          43610 non-null Int64\n",
      "SPEED_LIMIT          43610 non-null Int64\n",
      "ILLUMINATION         43610 non-null object\n",
      "MOTORCYCLE_COUNT     43610 non-null Int64\n",
      "HEAVY_TRUCK_COUNT    43610 non-null Int64\n",
      "HAZARDOUS_TRUCK      43610 non-null object\n",
      "AUTOMOBILE_COUNT     43610 non-null Int64\n",
      "SCH_BUS_IND          43610 non-null object\n",
      "WEATHER              43610 non-null object\n",
      "dtypes: Int64(5), object(8)\n",
      "memory usage: 4.9+ MB\n",
      "None\n",
      "<class 'pandas.core.frame.DataFrame'>\n",
      "Int64Index: 43610 entries, 1 to 180963\n",
      "Data columns (total 5 columns):\n",
      "PERSON_COUNT          43610 non-null Int64\n",
      "FATAL_COUNT           43610 non-null Int64\n",
      "INJURY_COUNT          43610 non-null Int64\n",
      "MAX_SEVERITY_LEVEL    43610 non-null object\n",
      "MAJOR_INJURY          43610 non-null object\n",
      "dtypes: Int64(3), object(2)\n",
      "memory usage: 2.1+ MB\n",
      "None\n"
     ]
    }
   ],
   "source": [
    "import pandas as pd\n",
    "import wget\n",
    "from pathlib import Path\n",
    "import numpy as np\n",
    "\n",
    "#clean sch_bus_ind y/n to integer 0,1\n",
    "\n",
    "def type_boolean(c):\n",
    "    if c == \"Y\": return 1\n",
    "    elif c == \"N\": return 0\n",
    "    # elif c == \"nan\": return np.nan\n",
    "    else:\n",
    "        return np.nan\n",
    "    # raise ValueError(c)\n",
    "\n",
    "def ROAD_CONDITION(c): # 8 is other 9 is unknown, 1,7->2, 3->4, 4->3, 5,6->5, 2,8,9->nan\n",
    "    if c == 1 or c == 7:\n",
    "        return 2\n",
    "    elif c == 3:\n",
    "        return 4\n",
    "    elif c == 4:\n",
    "        return 3\n",
    "    elif c == 5 or c == 6:\n",
    "        return 5\n",
    "    else:\n",
    "        return np.nan\n",
    "\n",
    "def INTERSECT_TYPE(c): # 10 is other 99 is unkonw\n",
    "    if c <= 9:\n",
    "        return c\n",
    "    else:\n",
    "        return np.nan\n",
    "\n",
    "def ILLUMINATION(c):\n",
    "    if c <= 6:\n",
    "        return c\n",
    "    else:\n",
    "        return np.nan\n",
    "    \n",
    "def WEATHER(c):\n",
    "    if c <= 7:\n",
    "        return c\n",
    "    else:\n",
    "        return np.nan\n",
    "    \n",
    "def TIME(c): # extract only the hour\n",
    "    if c <= 2500:\n",
    "        return c // 100\n",
    "    else:\n",
    "        return np.nan\n",
    "\n",
    "if not Path('all-crashes-2004-2018.csv.zip').exists():\n",
    "    wget.download(\"https://data.wprdc.org/dataset/3130f583-9499-472b-bb5a-f63a6ff6059a/resource/ec578660-2d3f-489d-9ba1-af0ebfc3b140/download/all-crashes-2004-2018.csv.zip\")\n",
    "# zf = zipfile.ZipFile('all-crashes-2004-2018.csv.zip') \n",
    "df_io = pd.read_csv('all-crashes-2004-2018.csv.zip')\n",
    "# print(df.head())\n",
    "# print(list(df))\n",
    "# static_columns = \"ROAD_CONDITION,INTERSECT_TYPE,URBAN_RURAL,DISTRICT,STATE_ROAD,LOCAL_ROAD,SNOW_SLUSH_ROAD,LANE_CLOSED,TIME_OF_DAY,SPEED_LIMIT\"\n",
    "# dynamic_columns = \"ILLUMINATION,MOTORCYCLE_COUNT,HEAVY_TRUCK_COUNT,WEATHER,HAZARDOUS_TRUCK,SCH_BUS_IND,AUTOMOBILE_COUNT\"\n",
    "# output_columns = \"PERSON_COUNT,FATAL_COUNT,INJURY_COUNT,MAX_SEVERITY_LEVEL,MAJOR_INJURY\"\n",
    "# df_io = df[(static_columns+\",\"+dynamic_columns+\",\"+output_columns).split(',')]\n",
    "# print(df_io.head())\n",
    "# print(df_io.dtypes)\n",
    "# print(df_io.info())\n",
    "\n",
    "# df_io['SCH_BUS_IND'] = df_io['SCH_BUS_IND'].apply(type_boolean)\n",
    "\n",
    "\n",
    "\n",
    "# df_io['ROAD_CONDITION'] = df_io['ROAD_CONDITION'].apply(ROAD_CONDITION)\n",
    "# df_io['INTERSECT_TYPE'] = df_io['INTERSECT_TYPE'].apply(INTERSECT_TYPE)\n",
    "# df_io['ILLUMINATION'] = df_io['ILLUMINATION'].apply(ILLUMINATION)\n",
    "# df_io['WEATHER'] = df_io['WEATHER'].apply(WEATHER)\n",
    "# df_io['TIME_OF_DAY'] = df_io['TIME_OF_DAY'].apply(TIME)\n",
    "\n",
    "# df_io = df_io.astype(\"Int64\")\n",
    "\n",
    "# print(df_io.head())\n",
    "# print(df_io.dtypes)\n",
    "# print(df_io.info())\n",
    "\n",
    "# drop col that will not be used\n",
    "static = ['ROAD_CONDITION', 'INTERSECT_TYPE', 'DISTRICT', 'LANE_CLOSED', 'TIME_OF_DAY', 'SPEED_LIMIT', 'ILLUMINATION']\n",
    "dynamic = ['MOTORCYCLE_COUNT', 'HEAVY_TRUCK_COUNT', 'HAZARDOUS_TRUCK', 'AUTOMOBILE_COUNT', 'SCH_BUS_IND', 'WEATHER']\n",
    "label = ['PERSON_COUNT', 'FATAL_COUNT', 'INJURY_COUNT', 'MAX_SEVERITY_LEVEL', 'MAJOR_INJURY']\n",
    "categorical = ['ROAD_CONDITION', 'INTERSECT_TYPE', 'DISTRICT', 'LANE_CLOSED', 'ILLUMINATION', 'HAZARDOUS_TRUCK', 'SCH_BUS_IND', 'WEATHER', 'MAJOR_INJURY', 'MAX_SEVERITY_LEVEL']\n",
    "gussian = ['TIME_OF_DAY', 'SPEED_LIMIT', 'MOTORCYCLE_COUNT', 'HEAVY_TRUCK_COUNT', 'AUTOMOBILE_COUNT']\n",
    "data = static + dynamic\n",
    "for col in df_io.columns:\n",
    "    if col not in static and col not in dynamic and col not in label:\n",
    "        df_io.drop(col, axis = 1, inplace = True)  \n",
    "# print(df_io[15:25])\n",
    "# df_io['TIME_OF_DAY'] = df_io['TIME_OF_DAY'].astype(\"Int64\")\n",
    "\n",
    "\n",
    "# clean data\n",
    "df_io['SCH_BUS_IND'] = df_io['SCH_BUS_IND'].apply(type_boolean)\n",
    "df_io['ROAD_CONDITION'] = df_io['ROAD_CONDITION'].apply(ROAD_CONDITION)\n",
    "df_io['INTERSECT_TYPE'] = df_io['INTERSECT_TYPE'].apply(INTERSECT_TYPE)\n",
    "df_io['ILLUMINATION'] = df_io['ILLUMINATION'].apply(ILLUMINATION)\n",
    "df_io['WEATHER'] = df_io['WEATHER'].apply(WEATHER)\n",
    "df_io['TIME_OF_DAY'] = df_io['TIME_OF_DAY'].apply(TIME)\n",
    "\n",
    "df_io = df_io.astype(\"Int64\")\n",
    "# drop rows contain nan\n",
    "df_io = df_io.dropna()\n",
    "df_io[categorical] = df_io[categorical].astype(\"object\")\n",
    "print(df_io[15:25])\n",
    "# group data into dataset/label\n",
    "df_data = df_io[data].copy()\n",
    "df_label = df_io[label].copy()\n",
    "print(df_data.info())\n",
    "print(df_label.info())"
   ]
  },
  {
   "cell_type": "markdown",
   "metadata": {},
   "source": [
    "## Train Test Split"
   ]
  },
  {
   "cell_type": "code",
   "execution_count": 57,
   "metadata": {},
   "outputs": [],
   "source": [
    "# split the dataset with 33% as train data\n",
    "from sklearn.model_selection import train_test_split\n",
    "comb_df_data = df_io[data].copy()\n",
    "static_df_data = df_io[static].copy()\n",
    "dynamic_df_data = df_io[dynamic].copy()\n",
    "\n",
    "sseverity_X_train, sseverity_X_test, sseverity_y_train, sseverity_y_test = train_test_split(static_df_data, df_io['MAX_SEVERITY_LEVEL'], test_size=0.33, random_state=42)\n",
    "# comb_X_train, comb_X_test, comb_y_train, comb_y_test = train_test_split(df_data, df_label, test_size=0.33, random_state=42)\n"
   ]
  },
  {
   "cell_type": "markdown",
   "metadata": {},
   "source": [
    "## Environment Static Analysis\n"
   ]
  },
  {
   "cell_type": "code",
   "execution_count": 61,
   "metadata": {},
   "outputs": [],
   "source": [
    "from sklearn.naive_bayes import GaussianNB, MultinomialNB\n"
   ]
  },
  {
   "cell_type": "markdown",
   "metadata": {},
   "source": [
    "## Dynamic Analysis"
   ]
  },
  {
   "cell_type": "code",
   "execution_count": null,
   "metadata": {},
   "outputs": [],
   "source": []
  },
  {
   "cell_type": "markdown",
   "metadata": {},
   "source": [
    "## Combined Analysis"
   ]
  },
  {
   "cell_type": "code",
   "execution_count": null,
   "metadata": {},
   "outputs": [],
   "source": []
  },
  {
   "cell_type": "markdown",
   "metadata": {},
   "source": [
    "## Real-Time Severity Prediction"
   ]
  }
 ],
 "metadata": {
  "kernelspec": {
   "display_name": "Python 3",
   "language": "python",
   "name": "python3"
  },
  "language_info": {
   "codemirror_mode": {
    "name": "ipython",
    "version": 3
   },
   "file_extension": ".py",
   "mimetype": "text/x-python",
   "name": "python",
   "nbconvert_exporter": "python",
   "pygments_lexer": "ipython3",
   "version": "3.7.3"
  },
  "pycharm": {
   "stem_cell": {
    "cell_type": "raw",
    "metadata": {
     "collapsed": false
    },
    "source": []
   }
  }
 },
 "nbformat": 4,
 "nbformat_minor": 2
}
