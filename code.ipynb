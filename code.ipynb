{
 "cells": [
  {
   "cell_type": "markdown",
   "metadata": {},
   "source": [
    "# Carcrash Severity Prediction\n",
    "\n",
    "Downloading the datasets:\n",
    "\n",
    "Please run `wget https://data.wprdc.org/dataset/3130f583-9499-472b-bb5a-f63a6ff6059a/resource/ec578660-2d3f-489d-9ba1-af0ebfc3b140/download/all-crashes-2004-2018.csv.zip`\n",
    "or visit this link to get the Allegheny County crash data."
   ]
  },
  {
   "cell_type": "markdown",
   "metadata": {},
   "source": [
    "## Load Data"
   ]
  },
  {
   "cell_type": "code",
   "execution_count": null,
   "metadata": {
    "pycharm": {
     "is_executing": true
    }
   },
   "outputs": [],
   "source": [
    "import ckanapi\n",
    "from pprint import pprint\n",
    "import pandas as pd\n",
    "\n",
    "site = \"https://data.wprdc.org\""
   ]
  },
  {
   "cell_type": "code",
   "execution_count": null,
   "metadata": {
    "pycharm": {
     "is_executing": true
    }
   },
   "outputs": [],
   "source": [
    "def get_resource_data(site,resource_id,count=50):\n",
    "    # Use the datastore_search API endpoint to get <count> records from\n",
    "    # a CKAN resource.\n",
    "    ckan = ckanapi.RemoteCKAN(site)\n",
    "    response = ckan.action.datastore_search(id=resource_id, limit=count)\n",
    "\n",
    "    # A typical response is a dictionary like this\n",
    "    #{u'_links': {u'next': u'/api/action/datastore_search?offset=3',\n",
    "    #             u'start': u'/api/action/datastore_search'},\n",
    "    # u'fields': [{u'id': u'_id', u'type': u'int4'},\n",
    "    #             {u'id': u'pin', u'type': u'text'},\n",
    "    #             {u'id': u'number', u'type': u'int4'},\n",
    "    #             {u'id': u'total_amount', u'type': u'float8'}],\n",
    "    # u'limit': 3,\n",
    "    # u'records': [{u'_id': 1,\n",
    "    #               u'number': 11,\n",
    "    #               u'pin': u'0001B00010000000',\n",
    "    #               u'total_amount': 13585.47},\n",
    "    #              {u'_id': 2,\n",
    "    #               u'number': 2,\n",
    "    #               u'pin': u'0001C00058000000',\n",
    "    #               u'total_amount': 7827.64},\n",
    "    #              {u'_id': 3,\n",
    "    #               u'number': 1,\n",
    "    #               u'pin': u'0001C01661006700',\n",
    "    #               u'total_amount': 3233.59}],\n",
    "    # u'resource_id': u'd1e80180-5b2e-4dab-8ec3-be621628649e',\n",
    "    # u'total': 88232}\n",
    "    data = response['records']\n",
    "    return data"
   ]
  },
  {
   "cell_type": "code",
   "execution_count": null,
   "metadata": {
    "pycharm": {
     "is_executing": true
    }
   },
   "outputs": [],
   "source": [
    "crash_data_2017 = get_resource_data(site,resource_id=\"bf8b3c7e-8d60-40df-9134-21606a451c1a\",count=999999999) "
   ]
  },
  {
   "cell_type": "code",
   "execution_count": null,
   "metadata": {
    "pycharm": {
     "is_executing": true
    }
   },
   "outputs": [],
   "source": [
    "len(crash_data_2017)\n",
    "df = pd.DataFrame(crash_data_2017)\n",
    "print(df.head())"
   ]
  },
  {
   "cell_type": "markdown",
   "metadata": {},
   "source": [
    "## Data Visualization"
   ]
  },
  {
   "cell_type": "markdown",
   "metadata": {},
   "source": [
    "TODO: Add a graph/animation to show the car crash data\n",
    "maybe the geospatial data?"
   ]
  },
  {
   "cell_type": "markdown",
   "metadata": {},
   "source": [
    "## Data Cleanup"
   ]
  },
  {
   "cell_type": "markdown",
   "metadata": {},
   "source": [
    "## Environment Static Analysis\n"
   ]
  },
  {
   "cell_type": "markdown",
   "metadata": {},
   "source": [
    "## Dynamic Analysis"
   ]
  },
  {
   "cell_type": "markdown",
   "metadata": {},
   "source": [
    "## Combined Analysis"
   ]
  },
  {
   "cell_type": "markdown",
   "metadata": {},
   "source": [
    "## Real-Time Severity Prediction"
   ]
  },
  {
   "cell_type": "code",
   "execution_count": 32,
   "metadata": {
    "pycharm": {
     "is_executing": false,
     "name": "#%%\n"
    }
   },
   "outputs": [
    {
     "name": "stdout",
     "text": [
      "   ROAD_CONDITION  INTERSECT_TYPE  URBAN_RURAL  DISTRICT  STATE_ROAD  \\\n0             0.0               0            3        11           1   \n1             6.0               0            3        11           0   \n2             0.0               3            3        11           1   \n3             1.0               1            3        11           0   \n4             0.0               0            3        11           0   \n\n   LOCAL_ROAD  SNOW_SLUSH_ROAD  LANE_CLOSED  TIME_OF_DAY  SPEED_LIMIT  ...  \\\n0         0.0                0            0        257.0         35.0  ...   \n1         1.0                0            2       1027.0         35.0  ...   \n2         0.0                0            0       1839.0         35.0  ...   \n3         1.0                0            0        914.0         25.0  ...   \n4         1.0                0            0       2230.0         20.0  ...   \n\n   MOTORCYCLE_COUNT  HEAVY_TRUCK_COUNT  WEATHER  HAZARDOUS_TRUCK  SCH_BUS_IND  \\\n0                 0                  0      1.0                0            N   \n1                 0                  0      1.0                0            N   \n2                 0                  0      1.0                0            N   \n3                 0                  1      1.0                0            N   \n4                 0                  0      1.0                0            N   \n\n  PERSON_COUNT  FATAL_COUNT  INJURY_COUNT  MAX_SEVERITY_LEVEL  MAJOR_INJURY  \n0            1            0             0                   0             0  \n1            1            0             1                   3             0  \n2            1            0             1                   4             0  \n3            3            0             1                   3             0  \n4            1            0             0                   0             0  \n\n[5 rows x 21 columns]\nROAD_CONDITION        float64\nINTERSECT_TYPE          int64\nURBAN_RURAL             int64\nDISTRICT                int64\nSTATE_ROAD              int64\nLOCAL_ROAD            float64\nSNOW_SLUSH_ROAD         int64\nLANE_CLOSED             int64\nTIME_OF_DAY           float64\nSPEED_LIMIT           float64\nILLUMINATION            int64\nMOTORCYCLE_COUNT        int64\nHEAVY_TRUCK_COUNT       int64\nWEATHER               float64\nHAZARDOUS_TRUCK         int64\nSCH_BUS_IND            object\nPERSON_COUNT            int64\nFATAL_COUNT             int64\nINJURY_COUNT            int64\nMAX_SEVERITY_LEVEL      int64\nMAJOR_INJURY            int64\ndtype: object\n<class 'pandas.core.frame.DataFrame'>\nRangeIndex: 182782 entries, 0 to 182781\nData columns (total 21 columns):\nROAD_CONDITION        182781 non-null float64\nINTERSECT_TYPE        182782 non-null int64\nURBAN_RURAL           182782 non-null int64\nDISTRICT              182782 non-null int64\nSTATE_ROAD            182782 non-null int64\nLOCAL_ROAD            170365 non-null float64\nSNOW_SLUSH_ROAD       182782 non-null int64\nLANE_CLOSED           182782 non-null int64\nTIME_OF_DAY           182634 non-null float64\nSPEED_LIMIT           170934 non-null float64\nILLUMINATION          182782 non-null int64\nMOTORCYCLE_COUNT      182782 non-null int64\nHEAVY_TRUCK_COUNT     182782 non-null int64\nWEATHER               182763 non-null float64\nHAZARDOUS_TRUCK       182782 non-null int64\nSCH_BUS_IND           180858 non-null object\nPERSON_COUNT          182782 non-null int64\nFATAL_COUNT           182782 non-null int64\nINJURY_COUNT          182782 non-null int64\nMAX_SEVERITY_LEVEL    182782 non-null int64\nMAJOR_INJURY          182782 non-null int64\ndtypes: float64(5), int64(15), object(1)\nmemory usage: 29.3+ MB\nNone\n",
      "   ROAD_CONDITION  INTERSECT_TYPE  URBAN_RURAL  DISTRICT  STATE_ROAD  \\\n0               0               0            3        11           1   \n1               6               0            3        11           0   \n2               0               3            3        11           1   \n3               1               1            3        11           0   \n4               0               0            3        11           0   \n\n   LOCAL_ROAD  SNOW_SLUSH_ROAD  LANE_CLOSED  TIME_OF_DAY  SPEED_LIMIT  ...  \\\n0           0                0            0          257           35  ...   \n1           1                0            2         1027           35  ...   \n2           0                0            0         1839           35  ...   \n3           1                0            0          914           25  ...   \n4           1                0            0         2230           20  ...   \n\n   MOTORCYCLE_COUNT  HEAVY_TRUCK_COUNT  WEATHER  HAZARDOUS_TRUCK  SCH_BUS_IND  \\\n0                 0                  0        1                0            0   \n1                 0                  0        1                0            0   \n2                 0                  0        1                0            0   \n3                 0                  1        1                0            0   \n4                 0                  0        1                0            0   \n\n   PERSON_COUNT  FATAL_COUNT  INJURY_COUNT  MAX_SEVERITY_LEVEL  MAJOR_INJURY  \n0             1            0             0                   0             0  \n1             1            0             1                   3             0  \n2             1            0             1                   4             0  \n3             3            0             1                   3             0  \n4             1            0             0                   0             0  \n\n[5 rows x 21 columns]\nROAD_CONDITION        Int64\nINTERSECT_TYPE        Int64\nURBAN_RURAL           Int64\nDISTRICT              Int64\nSTATE_ROAD            Int64\nLOCAL_ROAD            Int64\nSNOW_SLUSH_ROAD       Int64\nLANE_CLOSED           Int64\nTIME_OF_DAY           Int64\nSPEED_LIMIT           Int64\nILLUMINATION          Int64\nMOTORCYCLE_COUNT      Int64\nHEAVY_TRUCK_COUNT     Int64\nWEATHER               Int64\nHAZARDOUS_TRUCK       Int64\nSCH_BUS_IND           Int64\nPERSON_COUNT          Int64\nFATAL_COUNT           Int64\nINJURY_COUNT          Int64\nMAX_SEVERITY_LEVEL    Int64\nMAJOR_INJURY          Int64\ndtype: object\n<class 'pandas.core.frame.DataFrame'>\nRangeIndex: 182782 entries, 0 to 182781\nData columns (total 21 columns):\nROAD_CONDITION        182713 non-null Int64\nINTERSECT_TYPE        182748 non-null Int64\nURBAN_RURAL           182782 non-null Int64\nDISTRICT              182782 non-null Int64\nSTATE_ROAD            182782 non-null Int64\nLOCAL_ROAD            170365 non-null Int64\nSNOW_SLUSH_ROAD       182782 non-null Int64\nLANE_CLOSED           182782 non-null Int64\nTIME_OF_DAY           182634 non-null Int64\nSPEED_LIMIT           170934 non-null Int64\nILLUMINATION          182366 non-null Int64\nMOTORCYCLE_COUNT      182782 non-null Int64\nHEAVY_TRUCK_COUNT     182782 non-null Int64\nWEATHER               180654 non-null Int64\nHAZARDOUS_TRUCK       182782 non-null Int64\nSCH_BUS_IND           180858 non-null Int64\nPERSON_COUNT          182782 non-null Int64\nFATAL_COUNT           182782 non-null Int64\nINJURY_COUNT          182782 non-null Int64\nMAX_SEVERITY_LEVEL    182782 non-null Int64\nMAJOR_INJURY          182782 non-null Int64\ndtypes: Int64(21)\nmemory usage: 32.9 MB\nNone\n<class 'pandas.core.frame.DataFrame'>\nInt64Index: 160734 entries, 0 to 173298\nData columns (total 21 columns):\nROAD_CONDITION        160734 non-null Int64\nINTERSECT_TYPE        160734 non-null Int64\nURBAN_RURAL           160734 non-null Int64\nDISTRICT              160734 non-null Int64\nSTATE_ROAD            160734 non-null Int64\nLOCAL_ROAD            160734 non-null Int64\nSNOW_SLUSH_ROAD       160734 non-null Int64\nLANE_CLOSED           160734 non-null Int64\nTIME_OF_DAY           160734 non-null Int64\nSPEED_LIMIT           160734 non-null Int64\nILLUMINATION          160734 non-null Int64\nMOTORCYCLE_COUNT      160734 non-null Int64\nHEAVY_TRUCK_COUNT     160734 non-null Int64\nWEATHER               160734 non-null Int64\nHAZARDOUS_TRUCK       160734 non-null Int64\nSCH_BUS_IND           160734 non-null Int64\nPERSON_COUNT          160734 non-null Int64\nFATAL_COUNT           160734 non-null Int64\nINJURY_COUNT          160734 non-null Int64\nMAX_SEVERITY_LEVEL    160734 non-null Int64\nMAJOR_INJURY          160734 non-null Int64\ndtypes: Int64(21)\nmemory usage: 30.2 MB\nNone\n"
     ],
     "output_type": "stream"
    },
    {
     "name": "stderr",
     "text": [
      "c:\\python37\\lib\\site-packages\\ipykernel_launcher.py:52: SettingWithCopyWarning: \nA value is trying to be set on a copy of a slice from a DataFrame.\nTry using .loc[row_indexer,col_indexer] = value instead\n\nSee the caveats in the documentation: http://pandas.pydata.org/pandas-docs/stable/user_guide/indexing.html#returning-a-view-versus-a-copy\nc:\\python37\\lib\\site-packages\\ipykernel_launcher.py:56: SettingWithCopyWarning: \nA value is trying to be set on a copy of a slice from a DataFrame.\nTry using .loc[row_indexer,col_indexer] = value instead\n\nSee the caveats in the documentation: http://pandas.pydata.org/pandas-docs/stable/user_guide/indexing.html#returning-a-view-versus-a-copy\nc:\\python37\\lib\\site-packages\\ipykernel_launcher.py:57: SettingWithCopyWarning: \nA value is trying to be set on a copy of a slice from a DataFrame.\nTry using .loc[row_indexer,col_indexer] = value instead\n\nSee the caveats in the documentation: http://pandas.pydata.org/pandas-docs/stable/user_guide/indexing.html#returning-a-view-versus-a-copy\n",
      "c:\\python37\\lib\\site-packages\\ipykernel_launcher.py:58: SettingWithCopyWarning: \nA value is trying to be set on a copy of a slice from a DataFrame.\nTry using .loc[row_indexer,col_indexer] = value instead\n\nSee the caveats in the documentation: http://pandas.pydata.org/pandas-docs/stable/user_guide/indexing.html#returning-a-view-versus-a-copy\nc:\\python37\\lib\\site-packages\\ipykernel_launcher.py:59: SettingWithCopyWarning: \nA value is trying to be set on a copy of a slice from a DataFrame.\nTry using .loc[row_indexer,col_indexer] = value instead\n\nSee the caveats in the documentation: http://pandas.pydata.org/pandas-docs/stable/user_guide/indexing.html#returning-a-view-versus-a-copy\n"
     ],
     "output_type": "stream"
    }
   ],
   "source": [
    "import pandas as pd\n",
    "import wget\n",
    "from pathlib import Path\n",
    "import numpy as np\n",
    "\n",
    "#clean sch_bus_ind y/n to integer 0,1\n",
    "\n",
    "def type_boolean(c):\n",
    "    if c == \"Y\": return 1\n",
    "    elif c == \"N\": return 0\n",
    "    # elif c == \"nan\": return np.nan\n",
    "    else:\n",
    "       return np.nan\n",
    "    # raise ValueError(c)\n",
    "\n",
    "def ROAD_CONDITION(c): # 8 is other 9 is unknown\n",
    "    if c <= 7:\n",
    "        return c\n",
    "    else:\n",
    "        return np.nan\n",
    "\n",
    "def INTERSECT_TYPE(c): # 10 is other 99 is unkonw\n",
    "    if c <= 9:\n",
    "        return c\n",
    "    else:\n",
    "        return np.nan\n",
    "\n",
    "def ILLUMINATION(c):\n",
    "    if c <= 6:\n",
    "        return c\n",
    "    else:\n",
    "        return np.nan\n",
    "    \n",
    "def WEATHER(c):\n",
    "    if c <= 7:\n",
    "        return c\n",
    "    else:\n",
    "        return np.nan\n",
    "\n",
    "if not Path('all-crashes-2004-2018.csv.zip').exists():\n",
    "    wget.download(\"https://data.wprdc.org/dataset/3130f583-9499-472b-bb5a-f63a6ff6059a/resource/ec578660-2d3f-489d-9ba1-af0ebfc3b140/download/all-crashes-2004-2018.csv.zip\")\n",
    "# zf = zipfile.ZipFile('all-crashes-2004-2018.csv.zip') \n",
    "df = pd.read_csv('all-crashes-2004-2018.csv.zip')\n",
    "# print(df.head())\n",
    "# print(list(df))\n",
    "static_columns = \"ROAD_CONDITION,INTERSECT_TYPE,URBAN_RURAL,DISTRICT,STATE_ROAD,LOCAL_ROAD,SNOW_SLUSH_ROAD,LANE_CLOSED,TIME_OF_DAY,SPEED_LIMIT\"\n",
    "dynamic_columns = \"ILLUMINATION,MOTORCYCLE_COUNT,HEAVY_TRUCK_COUNT,WEATHER,HAZARDOUS_TRUCK,SCH_BUS_IND\"\n",
    "output_columns = \"PERSON_COUNT,FATAL_COUNT,INJURY_COUNT,MAX_SEVERITY_LEVEL,MAJOR_INJURY\"\n",
    "df_io = df[(static_columns+\",\"+dynamic_columns+\",\"+output_columns).split(',')]\n",
    "print(df_io.head())\n",
    "print(df_io.dtypes)\n",
    "print(df_io.info())\n",
    "\n",
    "df_io['SCH_BUS_IND'] = df_io['SCH_BUS_IND'].apply(type_boolean)\n",
    "\n",
    "\n",
    "\n",
    "df_io['ROAD_CONDITION'] = df_io['ROAD_CONDITION'].apply(ROAD_CONDITION)\n",
    "df_io['INTERSECT_TYPE'] = df_io['INTERSECT_TYPE'].apply(INTERSECT_TYPE)\n",
    "df_io['ILLUMINATION'] = df_io['ILLUMINATION'].apply(ILLUMINATION)\n",
    "df_io['WEATHER'] = df_io['WEATHER'].apply(WEATHER)\n",
    "\n",
    "df_io = df_io.astype(\"Int64\")\n",
    "\n",
    "print(df_io.head())\n",
    "print(df_io.dtypes)\n",
    "print(df_io.info())\n",
    "\n",
    "# do this?\n",
    "# df_io = df_io.dropna()\n",
    "# print(df_io.info())"
   ]
  }
 ],
 "metadata": {
  "kernelspec": {
   "display_name": "Python 3",
   "language": "python",
   "name": "python3"
  },
  "pycharm": {
   "stem_cell": {
    "cell_type": "raw",
    "source": [],
    "metadata": {
     "collapsed": false
    }
   }
  }
 },
 "nbformat": 4,
 "nbformat_minor": 2
}